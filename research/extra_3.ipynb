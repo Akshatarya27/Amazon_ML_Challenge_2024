{
 "cells": [
  {
   "cell_type": "code",
   "execution_count": 5,
   "metadata": {},
   "outputs": [],
   "source": [
    "import pytesseract \n",
    "from PIL import Image"
   ]
  },
  {
   "cell_type": "code",
   "execution_count": 6,
   "metadata": {},
   "outputs": [],
   "source": [
    "pytesseract.pytesseract.tesseract_cmd = r'C:\\Program Files\\Tesseract-OCR\\tesseract.exe'"
   ]
  },
  {
   "cell_type": "code",
   "execution_count": 149,
   "metadata": {},
   "outputs": [],
   "source": [
    "image_path = r'C:\\Users\\aksha\\OneDrive\\Documents\\ML_PROJECTS_KRISH\\009_Amazon_ML_Challenge\\images\\610CayyqcaL.jpg'"
   ]
  },
  {
   "cell_type": "code",
   "execution_count": 119,
   "metadata": {},
   "outputs": [],
   "source": [
    "image_path = r'C:\\Users\\aksha\\OneDrive\\Documents\\ML_PROJECTS_KRISH\\009_Amazon_ML_Challenge\\train_img_sam\\617Tl40LOXL.jpg'"
   ]
  },
  {
   "cell_type": "code",
   "execution_count": 131,
   "metadata": {},
   "outputs": [],
   "source": [
    "image_path = r'C:\\Users\\aksha\\OneDrive\\Documents\\ML_PROJECTS_KRISH\\009_Amazon_ML_Challenge\\train_img_sam\\61BZ4zrjZXL.jpg'"
   ]
  },
  {
   "cell_type": "code",
   "execution_count": 168,
   "metadata": {},
   "outputs": [],
   "source": [
    "image_path = r'C:\\Users\\aksha\\OneDrive\\Documents\\ML_PROJECTS_KRISH\\009_Amazon_ML_Challenge\\train_img_sam\\71nywfWZUwL.jpg'"
   ]
  },
  {
   "cell_type": "code",
   "execution_count": 196,
   "metadata": {},
   "outputs": [],
   "source": [
    "image_path = r'C:\\Users\\aksha\\OneDrive\\Documents\\ML_PROJECTS_KRISH\\009_Amazon_ML_Challenge\\images_test\\218BCzgKxuL.jpg'"
   ]
  },
  {
   "cell_type": "code",
   "execution_count": 207,
   "metadata": {},
   "outputs": [],
   "source": [
    "key = 'voltage'"
   ]
  },
  {
   "cell_type": "code",
   "execution_count": 208,
   "metadata": {},
   "outputs": [
    {
     "name": "stdout",
     "output_type": "stream",
     "text": [
      "Extracted Text and Numbers:\n",
      "Black Red Green\n",
      "208-240V\n",
      "e e at\n",
      "146A =\n",
      "GOHz u l2 GND\n",
      "Black White Green\n",
      "\n"
     ]
    }
   ],
   "source": [
    "from PIL import Image\n",
    "import pytesseract\n",
    "\n",
    "# Path to your image file\n",
    "# image_path = 'path_to_your_image_file.jpg'\n",
    "\n",
    "# Open the image using Pillow\n",
    "img = Image.open(image_path)\n",
    "\n",
    "# Configuration to extract both text and numbers\n",
    "custom_config = r'--oem 3 --psm 6'\n",
    "\n",
    "# Extract text from the image\n",
    "text3 = pytesseract.image_to_string(img, config=custom_config)\n",
    "\n",
    "# Print the extracted text\n",
    "print(\"Extracted Text and Numbers:\")\n",
    "print(text3)\n"
   ]
  },
  {
   "cell_type": "code",
   "execution_count": 209,
   "metadata": {},
   "outputs": [
    {
     "name": "stdout",
     "output_type": "stream",
     "text": [
      "Extracted Numbers:\n",
      "Black Red Green\n",
      "208-240V\n",
      ". . a\n",
      "160 =\n",
      "60HZ ut 12 GND\n",
      "Black White Green\n",
      "\n"
     ]
    }
   ],
   "source": [
    "import cv2\n",
    "import pytesseract\n",
    "\n",
    "# Load the image using OpenCV\n",
    "image = cv2.imread(image_path)\n",
    "\n",
    "# Convert to grayscale\n",
    "gray_image = cv2.cvtColor(image, cv2.COLOR_BGR2GRAY)\n",
    "\n",
    "# Apply thresholding for better contrast\n",
    "thresh_image = cv2.threshold(gray_image, 0, 255, cv2.THRESH_BINARY + cv2.THRESH_OTSU)[1]\n",
    "\n",
    "# Extract digits from the preprocessed image\n",
    "text4 = pytesseract.image_to_string(thresh_image, config=custom_config)\n",
    "\n",
    "# Print the extracted digits\n",
    "print(\"Extracted Numbers:\")\n",
    "print(text4)\n"
   ]
  },
  {
   "cell_type": "code",
   "execution_count": 210,
   "metadata": {},
   "outputs": [],
   "source": [
    "text5 = text3+text4\n",
    "cleaned_text5 = text5.replace('”', '\"')\n",
    "\n",
    "# Remove excessive newlines\n",
    "cleaned_text5 = cleaned_text5.strip().replace('\\n\\n', '\\n')"
   ]
  },
  {
   "cell_type": "code",
   "execution_count": 211,
   "metadata": {},
   "outputs": [
    {
     "name": "stdout",
     "output_type": "stream",
     "text": [
      "Black Red Green\n",
      "208-240V\n",
      "e e at\n",
      "146A =\n",
      "GOHz u l2 GND\n",
      "Black White Green\n",
      "Black Red Green\n",
      "208-240V\n",
      ". . a\n",
      "160 =\n",
      "60HZ ut 12 GND\n",
      "Black White Green\n"
     ]
    }
   ],
   "source": [
    "print(cleaned_text5)"
   ]
  },
  {
   "cell_type": "code",
   "execution_count": 212,
   "metadata": {},
   "outputs": [],
   "source": [
    "entity_unit_map = {\n",
    "    'width': {'centimetre', 'foot', 'inch', 'metre', 'millimetre', 'yard'},\n",
    "    'depth': {'centimetre', 'foot', 'inch', 'metre', 'millimetre', 'yard'},\n",
    "    'height': {'centimetre', 'foot', 'inch', 'metre', 'millimetre', 'yard'},\n",
    "    'item_weight': {'gram', 'kilogram', 'microgram', 'milligram', 'ounce', 'pound', 'ton'},\n",
    "    'maximum_weight_recommendation': {'gram', 'kilogram', 'microgram', 'milligram', 'ounce', 'pound', 'ton'},\n",
    "    'voltage': {'kilovolt', 'millivolt', 'volt'},\n",
    "    'wattage': {'kilowatt', 'watt'},\n",
    "    'item_volume': {'centilitre', 'cubic foot', 'cubic inch', 'cup', 'decilitre', 'fluid ounce', 'gallon', 'imperial gallon', 'litre', 'microlitre', 'millilitre', 'pint', 'quart'}\n",
    "}\n"
   ]
  },
  {
   "cell_type": "code",
   "execution_count": 213,
   "metadata": {},
   "outputs": [
    {
     "name": "stdout",
     "output_type": "stream",
     "text": [
      "['V']\n"
     ]
    }
   ],
   "source": [
    "import re\n",
    "\n",
    "def expand_units(units):\n",
    "    expanded_units = set()\n",
    "    for unit in units:\n",
    "        if unit == 'pound':\n",
    "            expanded_units.update({'pound', 'lb', 'lbs'})\n",
    "        elif unit == 'ounce':\n",
    "            expanded_units.update({'ounce', 'oz'})\n",
    "        elif unit == 'gram':\n",
    "            expanded_units.update({'gram', 'g'})\n",
    "        elif unit == 'kilogram':\n",
    "            expanded_units.update({'kilogram', 'kg'})\n",
    "        elif unit == 'ton':\n",
    "            expanded_units.update({'ton', 'tons'})\n",
    "        elif unit == 'milligram':\n",
    "            expanded_units.update({'milligram', 'mg'})\n",
    "        elif unit == 'microgram':\n",
    "            expanded_units.update({'microgram', 'mcg'})\n",
    "        elif unit == 'volt':\n",
    "            expanded_units.update({'volt', 'v'})\n",
    "        elif unit == 'kilovolt':\n",
    "            expanded_units.update({'kilovolt', 'kv'})\n",
    "        elif unit == 'watt':\n",
    "            expanded_units.update({'watt', 'w'})\n",
    "        elif unit == 'kilowatt':\n",
    "            expanded_units.update({'kilowatt', 'kw'})\n",
    "        elif unit == 'litre':\n",
    "            expanded_units.update({'litre', 'liter', 'l'})\n",
    "        elif unit == 'millilitre':\n",
    "            expanded_units.update({'millilitre', 'milliliter', 'ml'})\n",
    "        elif unit == 'centilitre':\n",
    "            expanded_units.update({'centilitre', 'centiliter', 'cl'})\n",
    "        elif unit == 'cubic foot':\n",
    "            expanded_units.update({'cubic foot', 'ft³'})\n",
    "        elif unit == 'cubic inch':\n",
    "            expanded_units.update({'cubic inch', 'in³'})\n",
    "        elif unit == 'cup':\n",
    "            expanded_units.update({'cup'})\n",
    "        elif unit == 'decilitre':\n",
    "            expanded_units.update({'decilitre', 'deciliter', 'dl'})\n",
    "        elif unit == 'fluid ounce':\n",
    "            expanded_units.update({'fluid ounce', 'fl oz'})\n",
    "        elif unit == 'gallon':\n",
    "            expanded_units.update({'gallon', 'gal'})\n",
    "        elif unit == 'imperial gallon':\n",
    "            expanded_units.update({'imperial gallon', 'imperial gal'})\n",
    "        elif unit == 'pint':\n",
    "            expanded_units.update({'pint'})\n",
    "        elif unit == 'quart':\n",
    "            expanded_units.update({'quart', 'qt'})\n",
    "        elif unit == 'foot':\n",
    "            expanded_units.update({'foot', 'ft'})\n",
    "        elif unit == 'inch':\n",
    "            expanded_units.update({'inch', 'in'})\n",
    "        elif unit == 'metre':\n",
    "            expanded_units.update({'metre', 'meter', 'm'})\n",
    "        elif unit == 'millimetre':\n",
    "            expanded_units.update({'millimetre', 'millimeter', 'mm'})\n",
    "        elif unit == 'yard':\n",
    "            expanded_units.update({'yard', 'yd'})\n",
    "        elif unit == 'centimetre':\n",
    "            expanded_units.update({'centimetre', 'cm'})\n",
    "        else:\n",
    "            expanded_units.add(unit)\n",
    "    return expanded_units\n",
    "\n",
    "def extract_units(text, key, entity_unit_map):\n",
    "    if key not in entity_unit_map:\n",
    "        return f\"Key '{key}' not found in entity_unit_map.\"\n",
    "\n",
    "    units = entity_unit_map[key]\n",
    "    expanded_units = expand_units(units)\n",
    "    \n",
    "    units_pattern = '|'.join(re.escape(unit) for unit in expanded_units)\n",
    "    matches = re.findall(units_pattern, text, re.IGNORECASE)\n",
    "    \n",
    "    return list(set(matches))  # Return unique matches\n",
    "\n",
    "result = extract_units(cleaned_text5, key, entity_unit_map)\n",
    "print(result)\n"
   ]
  },
  {
   "cell_type": "code",
   "execution_count": 214,
   "metadata": {},
   "outputs": [
    {
     "name": "stdout",
     "output_type": "stream",
     "text": [
      "['volt']\n"
     ]
    }
   ],
   "source": [
    "import re\n",
    "\n",
    "def expand_units(units):\n",
    "    expanded_units = {}\n",
    "    for unit in units:\n",
    "        if unit == 'pound':\n",
    "            expanded_units.update({'lb': 'pound', 'lbs': 'pound', 'pound': 'pound'})\n",
    "        elif unit == 'ounce':\n",
    "            expanded_units.update({'oz': 'ounce', 'ounce': 'ounce'})\n",
    "        elif unit == 'gram':\n",
    "            expanded_units.update({'g': 'gram', 'gram': 'gram'})\n",
    "        elif unit == 'kilogram':\n",
    "            expanded_units.update({'kg': 'kilogram', 'kilogram': 'kilogram'})\n",
    "        elif unit == 'ton':\n",
    "            expanded_units.update({'ton': 'ton', 'tons': 'ton'})\n",
    "        elif unit == 'milligram':\n",
    "            expanded_units.update({'mg': 'milligram', 'milligram': 'milligram'})\n",
    "        elif unit == 'microgram':\n",
    "            expanded_units.update({'mcg': 'microgram', 'microgram': 'microgram'})\n",
    "        elif unit == 'volt':\n",
    "            expanded_units.update({'v': 'volt', 'volt': 'volt'})\n",
    "        elif unit == 'kilovolt':\n",
    "            expanded_units.update({'kv': 'kilovolt', 'kilovolt': 'kilovolt'})\n",
    "        elif unit == 'watt':\n",
    "            expanded_units.update({'w': 'watt', 'watt': 'watt'})\n",
    "        elif unit == 'kilowatt':\n",
    "            expanded_units.update({'kw': 'kilowatt', 'kilowatt': 'kilowatt'})\n",
    "        elif unit == 'litre':\n",
    "            expanded_units.update({'l': 'litre', 'liter': 'litre', 'litre': 'litre'})\n",
    "        elif unit == 'millilitre':\n",
    "            expanded_units.update({'ml': 'millilitre', 'milliliter': 'millilitre', 'millilitre': 'millilitre'})\n",
    "        elif unit == 'centilitre':\n",
    "            expanded_units.update({'cl': 'centilitre', 'centiliter': 'centilitre', 'centilitre': 'centilitre'})\n",
    "        elif unit == 'cubic foot':\n",
    "            expanded_units.update({'ft³': 'cubic foot', 'cubic foot': 'cubic foot'})\n",
    "        elif unit == 'cubic inch':\n",
    "            expanded_units.update({'in³': 'cubic inch', 'cubic inch': 'cubic inch'})\n",
    "        elif unit == 'cup':\n",
    "            expanded_units.update({'cup': 'cup'})\n",
    "        elif unit == 'decilitre':\n",
    "            expanded_units.update({'dl': 'decilitre', 'deciliter': 'decilitre', 'decilitre': 'decilitre'})\n",
    "        elif unit == 'fluid ounce':\n",
    "            expanded_units.update({'fl oz': 'fluid ounce', 'fluid ounce': 'fluid ounce'})\n",
    "        elif unit == 'gallon':\n",
    "            expanded_units.update({'gal': 'gallon', 'gallon': 'gallon'})\n",
    "        elif unit == 'imperial gallon':\n",
    "            expanded_units.update({'imperial gal': 'imperial gallon', 'imperial gallon': 'imperial gallon'})\n",
    "        elif unit == 'pint':\n",
    "            expanded_units.update({'pint': 'pint'})\n",
    "        elif unit == 'quart':\n",
    "            expanded_units.update({'qt': 'quart', 'quart': 'quart'})\n",
    "        elif unit == 'foot':\n",
    "            expanded_units.update({'ft': 'foot', 'foot': 'foot'})\n",
    "        elif unit == 'inch':\n",
    "            expanded_units.update({'in': 'inch', 'inch': 'inch'})\n",
    "        elif unit == 'metre':\n",
    "            expanded_units.update({'m': 'metre', 'meter': 'metre', 'metre': 'metre'})\n",
    "        elif unit == 'millimetre':\n",
    "            expanded_units.update({'mm': 'millimetre', 'millimeter': 'millimetre', 'millimetre': 'millimetre'})\n",
    "        elif unit == 'yard':\n",
    "            expanded_units.update({'yd': 'yard', 'yard': 'yard'})\n",
    "        elif unit == 'centimetre':\n",
    "            expanded_units.update({'centimetre' : 'centimetre', 'cm' : 'centimetre'})\n",
    "        else:\n",
    "            expanded_units[unit] = unit\n",
    "    return expanded_units\n",
    "\n",
    "def extract_units(text, key, entity_unit_map):\n",
    "    if key not in entity_unit_map:\n",
    "        return f\"Key '{key}' not found in entity_unit_map.\"\n",
    "\n",
    "    # Get the relevant units for the provided key\n",
    "    units = entity_unit_map[key]\n",
    "    \n",
    "    # Expand the units for the specific key\n",
    "    expanded_units = expand_units(units)\n",
    "    \n",
    "    # Create a regex pattern to match any of the expanded units\n",
    "    units_pattern = '|'.join(re.escape(unit) for unit in expanded_units.keys())\n",
    "    \n",
    "    # Find matches in the text\n",
    "    matches = re.findall(units_pattern, text, re.IGNORECASE)\n",
    "    \n",
    "    # Map each found unit back to its base form\n",
    "    base_units = [expanded_units[match.lower()] for match in matches]\n",
    "    \n",
    "    return list(set(base_units))  # Return unique base units\n",
    "\n",
    "# Define cleaned_text5 and entity_unit_map\n",
    "\n",
    "# Example usage: Provide the key (e.g., 'wattage')\n",
    "\n",
    "result = extract_units(cleaned_text5, key, entity_unit_map)\n",
    "print(result)\n"
   ]
  },
  {
   "cell_type": "code",
   "execution_count": 218,
   "metadata": {},
   "outputs": [
    {
     "name": "stdout",
     "output_type": "stream",
     "text": [
      "['240 volt', '240 volt']\n"
     ]
    }
   ],
   "source": [
    "import re\n",
    "\n",
    "def expand_units(units):\n",
    "    expanded_units = {}\n",
    "    for unit in units:\n",
    "        if unit == 'pound':\n",
    "            expanded_units.update({'lb': 'pound', 'lbs': 'pound', 'pound': 'pound'})\n",
    "        elif unit == 'ounce':\n",
    "            expanded_units.update({'oz': 'ounce', 'ounce': 'ounce'})\n",
    "        elif unit == 'gram':\n",
    "            expanded_units.update({'g': 'gram', 'gram': 'gram'})\n",
    "        elif unit == 'kilogram':\n",
    "            expanded_units.update({'kg': 'kilogram', 'kilogram': 'kilogram'})\n",
    "        elif unit == 'ton':\n",
    "            expanded_units.update({'ton': 'ton', 'tons': 'ton'})\n",
    "        elif unit == 'milligram':\n",
    "            expanded_units.update({'mg': 'milligram', 'milligram': 'milligram'})\n",
    "        elif unit == 'microgram':\n",
    "            expanded_units.update({'mcg': 'microgram', 'microgram': 'microgram'})\n",
    "        elif unit == 'volt':\n",
    "            expanded_units.update({'v': 'volt', 'volt': 'volt'})\n",
    "        elif unit == 'kilovolt':\n",
    "            expanded_units.update({'kv': 'kilovolt', 'kilovolt': 'kilovolt'})\n",
    "        elif unit == 'watt':\n",
    "            expanded_units.update({'w': 'watt', 'watt': 'watt'})\n",
    "        elif unit == 'kilowatt':\n",
    "            expanded_units.update({'kw': 'kilowatt', 'kilowatt': 'kilowatt'})\n",
    "        elif unit == 'litre':\n",
    "            expanded_units.update({'l': 'litre', 'liter': 'litre', 'litre': 'litre'})\n",
    "        elif unit == 'millilitre':\n",
    "            expanded_units.update({'ml': 'millilitre', 'milliliter': 'millilitre', 'millilitre': 'millilitre'})\n",
    "        elif unit == 'centilitre':\n",
    "            expanded_units.update({'cl': 'centilitre', 'centiliter': 'centilitre', 'centilitre': 'centilitre'})\n",
    "        elif unit == 'cubic foot':\n",
    "            expanded_units.update({'ft³': 'cubic foot', 'cubic foot': 'cubic foot'})\n",
    "        elif unit == 'cubic inch':\n",
    "            expanded_units.update({'in³': 'cubic inch', 'cubic inch': 'cubic inch'})\n",
    "        elif unit == 'cup':\n",
    "            expanded_units.update({'cup': 'cup'})\n",
    "        elif unit == 'decilitre':\n",
    "            expanded_units.update({'dl': 'decilitre', 'deciliter': 'decilitre', 'decilitre': 'decilitre'})\n",
    "        elif unit == 'fluid ounce':\n",
    "            expanded_units.update({'fl oz': 'fluid ounce', 'fluid ounce': 'fluid ounce'})\n",
    "        elif unit == 'gallon':\n",
    "            expanded_units.update({'gal': 'gallon', 'gallon': 'gallon'})\n",
    "        elif unit == 'imperial gallon':\n",
    "            expanded_units.update({'imperial gal': 'imperial gallon', 'imperial gallon': 'imperial gallon'})\n",
    "        elif unit == 'pint':\n",
    "            expanded_units.update({'pint': 'pint'})\n",
    "        elif unit == 'quart':\n",
    "            expanded_units.update({'qt': 'quart', 'quart': 'quart'})\n",
    "        elif unit == 'foot':\n",
    "            expanded_units.update({'ft': 'foot', 'foot': 'foot'})\n",
    "        elif unit == 'inch':\n",
    "            expanded_units.update({'in': 'inch', 'inch': 'inch'})\n",
    "        elif unit == 'metre':\n",
    "            expanded_units.update({'m': 'metre', 'meter': 'metre', 'metre': 'metre'})\n",
    "        elif unit == 'millimetre':\n",
    "            expanded_units.update({'mm': 'millimetre', 'millimeter': 'millimetre', 'millimetre': 'millimetre'})\n",
    "        elif unit == 'yard':\n",
    "            expanded_units.update({'yd': 'yard', 'yard': 'yard'})\n",
    "        else:\n",
    "            expanded_units[unit] = unit\n",
    "    return expanded_units\n",
    "\n",
    "def extract_units(text, key, entity_unit_map):\n",
    "    # Ensure the provided key exists in the entity_unit_map\n",
    "    if key not in entity_unit_map:\n",
    "        return f\"Key '{key}' not found in entity_unit_map.\"\n",
    "    \n",
    "    # Expand units for this specific key\n",
    "    units = entity_unit_map[key]\n",
    "    expanded_units = expand_units(units)\n",
    "    \n",
    "    # Create regex pattern to match a number followed by a unit\n",
    "    units_pattern = '|'.join(re.escape(unit) for unit in expanded_units.keys())\n",
    "    pattern = rf'(\\d+(\\.\\d+)?)\\s*({units_pattern})'\n",
    "    \n",
    "    # Find all matches\n",
    "    matches = re.findall(pattern, text, re.IGNORECASE)\n",
    "    \n",
    "    # For each match, map the unit back to its base form and return the number and base unit\n",
    "    extracted_results = []\n",
    "    for match in matches:\n",
    "        number = match[0]  # The number part (e.g., 2.31)\n",
    "        unit = match[2].lower()  # The unit part (e.g., lb)\n",
    "        base_unit = expanded_units[unit]  # Map to base unit (e.g., pound)\n",
    "        extracted_results.append(f\"{number} {base_unit}\")\n",
    "    \n",
    "    return extracted_results\n",
    "\n",
    "# Define cleaned_text5 and entity_unit_map\n",
    "\n",
    "# cleaned_text5 = '''0.7\" 2.31lb 0.7\" 2.31lbs 15 kg 200g'''\n",
    "\n",
    "# Example usage\n",
    "\n",
    "result = extract_units(cleaned_text5, key, entity_unit_map)\n",
    "print(result)\n"
   ]
  },
  {
   "cell_type": "code",
   "execution_count": 216,
   "metadata": {},
   "outputs": [
    {
     "name": "stdout",
     "output_type": "stream",
     "text": [
      "['240 volt']\n"
     ]
    }
   ],
   "source": [
    "def deduplicate_results(results):\n",
    "    unique_results = list(set(results))\n",
    "\n",
    "    # Return the cleaned-up results\n",
    "    return unique_results\n",
    "deduplicated_results = deduplicate_results(result)\n",
    "\n",
    "# Print or return the cleaned-up results\n",
    "print(deduplicated_results)"
   ]
  },
  {
   "cell_type": "code",
   "execution_count": null,
   "metadata": {},
   "outputs": [],
   "source": []
  },
  {
   "cell_type": "code",
   "execution_count": null,
   "metadata": {},
   "outputs": [],
   "source": []
  }
 ],
 "metadata": {
  "kernelspec": {
   "display_name": "myenv",
   "language": "python",
   "name": "python3"
  },
  "language_info": {
   "codemirror_mode": {
    "name": "ipython",
    "version": 3
   },
   "file_extension": ".py",
   "mimetype": "text/x-python",
   "name": "python",
   "nbconvert_exporter": "python",
   "pygments_lexer": "ipython3",
   "version": "3.11.7"
  }
 },
 "nbformat": 4,
 "nbformat_minor": 2
}
