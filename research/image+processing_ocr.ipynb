{
 "cells": [
  {
   "cell_type": "code",
   "execution_count": 2,
   "metadata": {},
   "outputs": [],
   "source": [
    "import pytesseract\n",
    "from PIL import Image\n",
    "from tqdm import tqdm\n",
    "import multiprocessing\n",
    "from pathlib import Path\n",
    "import os\n",
    "import numpy as np\n",
    "\n",
    "def extract_text_from_image(image_path):\n",
    "    try:\n",
    "        image = Image.open(image_path)\n",
    "        text = pytesseract.image_to_string(image)\n",
    "        return text\n",
    "    except Exception as e:\n",
    "        return \"\"  # Return an empty string if OCR fails\n",
    "\n",
    "def process_images(image_paths):\n",
    "    texts = []\n",
    "    for path in tqdm(image_paths):\n",
    "        text = extract_text_from_image(path)\n",
    "        texts.append(text)\n",
    "    return texts\n",
    "\n",
    "# Batch processing with multiprocessing\n",
    "def process_images_in_batches(image_dir, batch_size=10000):\n",
    "    all_image_paths = list(Path(image_dir).glob('*.jpg'))  # List all images\n",
    "    num_batches = int(np.ceil(len(all_image_paths) / batch_size))\n",
    "    \n",
    "    all_texts = []\n",
    "    \n",
    "    for i in range(num_batches):\n",
    "        print(f\"Processing batch {i + 1}/{num_batches}\")\n",
    "        batch_paths = all_image_paths[i * batch_size : (i + 1) * batch_size]\n",
    "        \n",
    "        with multiprocessing.Pool(processes=8) as pool:\n",
    "            batch_texts = pool.map(extract_text_from_image, batch_paths)\n",
    "            all_texts.extend(batch_texts)\n",
    "    \n",
    "    return all_texts\n",
    "\n",
    "# Example usage:\n",
    "image_texts = process_images_in_batches(image_dir='../images')\n"
   ]
  },
  {
   "cell_type": "code",
   "execution_count": null,
   "metadata": {},
   "outputs": [],
   "source": []
  }
 ],
 "metadata": {
  "kernelspec": {
   "display_name": "myenv",
   "language": "python",
   "name": "python3"
  },
  "language_info": {
   "codemirror_mode": {
    "name": "ipython",
    "version": 3
   },
   "file_extension": ".py",
   "mimetype": "text/x-python",
   "name": "python",
   "nbconvert_exporter": "python",
   "pygments_lexer": "ipython3",
   "version": "3.11.7"
  }
 },
 "nbformat": 4,
 "nbformat_minor": 2
}
