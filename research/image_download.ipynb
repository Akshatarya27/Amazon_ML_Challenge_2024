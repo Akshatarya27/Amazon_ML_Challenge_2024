{
 "cells": [
  {
   "cell_type": "code",
   "execution_count": 1,
   "metadata": {},
   "outputs": [],
   "source": [
    "import sys\n",
    "sys.path.append('../student_resource 3/src')  # Adjust the path according to where your notebook/script is located\n",
    "\n",
    "from utils import download_images  # Now you can import from src\n"
   ]
  },
  {
   "cell_type": "code",
   "execution_count": 13,
   "metadata": {},
   "outputs": [
    {
     "name": "stderr",
     "output_type": "stream",
     "text": [
      "Exception in thread Thread-6 (_handle_workers):\n",
      "Traceback (most recent call last):\n",
      "  File \"C:\\Users\\aksha\\anaconda3\\Lib\\threading.py\", line 1045, in _bootstrap_inner\n",
      "    self.run()\n",
      "  File \"c:\\Users\\aksha\\OneDrive\\Documents\\ML_PROJECTS_KRISH\\009_Amazon_ML_Challenge\\myenv\\Lib\\site-packages\\ipykernel\\ipkernel.py\", line 766, in run_closure\n",
      "    _threading_Thread_run(self)\n",
      "  File \"C:\\Users\\aksha\\anaconda3\\Lib\\threading.py\", line 982, in run\n",
      "    self._target(*self._args, **self._kwargs)\n",
      "  File \"C:\\Users\\aksha\\anaconda3\\Lib\\multiprocessing\\pool.py\", line 522, in _handle_workers\n",
      "    cls._wait_for_updates(current_sentinels, change_notifier)\n",
      "  File \"C:\\Users\\aksha\\anaconda3\\Lib\\multiprocessing\\pool.py\", line 502, in _wait_for_updates\n",
      "    wait(sentinels, timeout=timeout)\n",
      "  File \"C:\\Users\\aksha\\anaconda3\\Lib\\multiprocessing\\connection.py\", line 895, in wait\n",
      "    ready_handles = _exhaustive_wait(waithandle_to_obj.keys(), timeout)\n",
      "                    ^^^^^^^^^^^^^^^^^^^^^^^^^^^^^^^^^^^^^^^^^^^^^^^^^^^\n",
      "  File \"C:\\Users\\aksha\\anaconda3\\Lib\\multiprocessing\\connection.py\", line 827, in _exhaustive_wait\n",
      "    res = _winapi.WaitForMultipleObjects(L, False, timeout)\n",
      "          ^^^^^^^^^^^^^^^^^^^^^^^^^^^^^^^^^^^^^^^^^^^^^^^^^\n",
      "ValueError: need at most 63 handles, got a sequence of length 66\n",
      "100%|██████████| 263859/263859 [7:20:55<00:00,  9.97it/s]     \n"
     ]
    }
   ],
   "source": [
    "# import pandas as pd\n",
    "# from utils import download_images\n",
    "\n",
    "# # Load train.csv and test.csv\n",
    "# train_df = pd.read_csv(\"../student_resource 3/dataset/train.csv\")\n",
    "# test_df = pd.read_csv(\"../student_resource 3/dataset/test.csv\")\n",
    "# # Create a folder to save images\n",
    "# image_folder = \"../images\"\n",
    "\n",
    "# # Download the images from the URLs in train.csv\n",
    "# download_images(train_df['image_link'], image_folder)"
   ]
  },
  {
   "cell_type": "code",
   "execution_count": 2,
   "metadata": {},
   "outputs": [
    {
     "name": "stderr",
     "output_type": "stream",
     "text": [
      "Exception in thread Thread-5 (_handle_workers):\n",
      "Traceback (most recent call last):\n",
      "  File \"C:\\Users\\aksha\\anaconda3\\Lib\\threading.py\", line 1045, in _bootstrap_inner\n",
      "    self.run()\n",
      "  File \"c:\\Users\\aksha\\OneDrive\\Documents\\ML_PROJECTS_KRISH\\009_Amazon_ML_Challenge\\myenv\\Lib\\site-packages\\ipykernel\\ipkernel.py\", line 766, in run_closure\n",
      "    _threading_Thread_run(self)\n",
      "  File \"C:\\Users\\aksha\\anaconda3\\Lib\\threading.py\", line 982, in run\n",
      "    self._target(*self._args, **self._kwargs)\n",
      "  File \"C:\\Users\\aksha\\anaconda3\\Lib\\multiprocessing\\pool.py\", line 522, in _handle_workers\n",
      "    cls._wait_for_updates(current_sentinels, change_notifier)\n",
      "  File \"C:\\Users\\aksha\\anaconda3\\Lib\\multiprocessing\\pool.py\", line 502, in _wait_for_updates\n",
      "    wait(sentinels, timeout=timeout)\n",
      "  File \"C:\\Users\\aksha\\anaconda3\\Lib\\multiprocessing\\connection.py\", line 895, in wait\n",
      "    ready_handles = _exhaustive_wait(waithandle_to_obj.keys(), timeout)\n",
      "                    ^^^^^^^^^^^^^^^^^^^^^^^^^^^^^^^^^^^^^^^^^^^^^^^^^^^\n",
      "  File \"C:\\Users\\aksha\\anaconda3\\Lib\\multiprocessing\\connection.py\", line 827, in _exhaustive_wait\n",
      "    res = _winapi.WaitForMultipleObjects(L, False, timeout)\n",
      "          ^^^^^^^^^^^^^^^^^^^^^^^^^^^^^^^^^^^^^^^^^^^^^^^^^\n",
      "ValueError: need at most 63 handles, got a sequence of length 66\n",
      "100%|██████████| 49999/49999 [22:04<00:00, 37.76it/s] \n"
     ]
    }
   ],
   "source": [
    "import pandas as pd\n",
    "from utils import download_images\n",
    "\n",
    "# Load train.csv and test.csv\n",
    "train_df = pd.read_csv(\"../student_resource 3/dataset/train.csv\")\n",
    "test_df = pd.read_csv(\"../student_resource 3/dataset/test.csv\")\n",
    "\n",
    "# Create a folder to save images\n",
    "image_folder = \"../images_test\"\n",
    "\n",
    "# Download the images from the URLs in train.csv\n",
    "# download_images(train_df['image_link'], image_folder)\n",
    "download_images(test_df['image_link'], image_folder)"
   ]
  },
  {
   "cell_type": "code",
   "execution_count": 3,
   "metadata": {},
   "outputs": [
    {
     "name": "stderr",
     "output_type": "stream",
     "text": [
      "Exception in thread Thread-5 (_handle_workers):\n",
      "Traceback (most recent call last):\n",
      "  File \"C:\\Users\\aksha\\anaconda3\\Lib\\threading.py\", line 1045, in _bootstrap_inner\n",
      "    self.run()\n",
      "  File \"c:\\Users\\aksha\\OneDrive\\Documents\\ML_PROJECTS_KRISH\\009_Amazon_ML_Challenge\\myenv\\Lib\\site-packages\\ipykernel\\ipkernel.py\", line 766, in run_closure\n",
      "    _threading_Thread_run(self)\n",
      "  File \"C:\\Users\\aksha\\anaconda3\\Lib\\threading.py\", line 982, in run\n",
      "    self._target(*self._args, **self._kwargs)\n",
      "  File \"C:\\Users\\aksha\\anaconda3\\Lib\\multiprocessing\\pool.py\", line 522, in _handle_workers\n",
      "    cls._wait_for_updates(current_sentinels, change_notifier)\n",
      "  File \"C:\\Users\\aksha\\anaconda3\\Lib\\multiprocessing\\pool.py\", line 502, in _wait_for_updates\n",
      "    wait(sentinels, timeout=timeout)\n",
      "  File \"C:\\Users\\aksha\\anaconda3\\Lib\\multiprocessing\\connection.py\", line 895, in wait\n",
      "    ready_handles = _exhaustive_wait(waithandle_to_obj.keys(), timeout)\n",
      "                    ^^^^^^^^^^^^^^^^^^^^^^^^^^^^^^^^^^^^^^^^^^^^^^^^^^^\n",
      "  File \"C:\\Users\\aksha\\anaconda3\\Lib\\multiprocessing\\connection.py\", line 827, in _exhaustive_wait\n",
      "    res = _winapi.WaitForMultipleObjects(L, False, timeout)\n",
      "          ^^^^^^^^^^^^^^^^^^^^^^^^^^^^^^^^^^^^^^^^^^^^^^^^^\n",
      "ValueError: need at most 63 handles, got a sequence of length 66\n",
      " 73%|███████▎  | 36702/49999 [17:18<07:32, 29.40it/s]  "
     ]
    }
   ],
   "source": [
    "import pandas as pd\n",
    "from utils import download_images\n",
    "\n",
    "# Load train.csv and test.csv\n",
    "train_df = pd.read_csv(\"../student_resource 3/dataset/train.csv\")\n",
    "test_df = pd.read_csv(\"../student_resource 3/dataset/test_1.csv\")\n",
    "\n",
    "# Create a folder to save images\n",
    "image_folder = \"../images_test_1\"\n",
    "\n",
    "# Download the images from the URLs in train.csv\n",
    "# download_images(train_df['image_link'], image_folder)\n",
    "download_images(test_df['image_link'], image_folder)"
   ]
  },
  {
   "cell_type": "code",
   "execution_count": 3,
   "metadata": {},
   "outputs": [
    {
     "name": "stderr",
     "output_type": "stream",
     "text": [
      "Exception in thread Thread-5 (_handle_workers):\n",
      "Traceback (most recent call last):\n",
      "  File \"C:\\Users\\aksha\\anaconda3\\Lib\\threading.py\", line 1045, in _bootstrap_inner\n",
      "    self.run()\n",
      "  File \"c:\\Users\\aksha\\OneDrive\\Documents\\ML_PROJECTS_KRISH\\009_Amazon_ML_Challenge\\myenv\\Lib\\site-packages\\ipykernel\\ipkernel.py\", line 766, in run_closure\n",
      "    _threading_Thread_run(self)\n",
      "  File \"C:\\Users\\aksha\\anaconda3\\Lib\\threading.py\", line 982, in run\n",
      "    self._target(*self._args, **self._kwargs)\n",
      "  File \"C:\\Users\\aksha\\anaconda3\\Lib\\multiprocessing\\pool.py\", line 522, in _handle_workers\n",
      "    cls._wait_for_updates(current_sentinels, change_notifier)\n",
      "  File \"C:\\Users\\aksha\\anaconda3\\Lib\\multiprocessing\\pool.py\", line 502, in _wait_for_updates\n",
      "    wait(sentinels, timeout=timeout)\n",
      "  File \"C:\\Users\\aksha\\anaconda3\\Lib\\multiprocessing\\connection.py\", line 895, in wait\n",
      "    ready_handles = _exhaustive_wait(waithandle_to_obj.keys(), timeout)\n",
      "                    ^^^^^^^^^^^^^^^^^^^^^^^^^^^^^^^^^^^^^^^^^^^^^^^^^^^\n",
      "  File \"C:\\Users\\aksha\\anaconda3\\Lib\\multiprocessing\\connection.py\", line 827, in _exhaustive_wait\n",
      "    res = _winapi.WaitForMultipleObjects(L, False, timeout)\n",
      "          ^^^^^^^^^^^^^^^^^^^^^^^^^^^^^^^^^^^^^^^^^^^^^^^^^\n",
      "ValueError: need at most 63 handles, got a sequence of length 66\n",
      " 26%|██▌       | 8139/31189 [05:42<08:57, 42.84it/s]  "
     ]
    }
   ],
   "source": [
    "import pandas as pd\n",
    "from utils import download_images\n",
    "\n",
    "# Load train.csv and test.csv\n",
    "train_df = pd.read_csv(\"../student_resource 3/dataset/train.csv\")\n",
    "test_df = pd.read_csv(\"../student_resource 3/dataset/test_2.csv\")\n",
    "\n",
    "# Create a folder to save images\n",
    "image_folder = \"../images_test_2\"\n",
    "\n",
    "# Download the images from the URLs in train.csv\n",
    "# download_images(train_df['image_link'], image_folder)\n",
    "download_images(test_df['image_link'], image_folder)"
   ]
  },
  {
   "cell_type": "code",
   "execution_count": null,
   "metadata": {},
   "outputs": [],
   "source": []
  },
  {
   "cell_type": "code",
   "execution_count": null,
   "metadata": {},
   "outputs": [],
   "source": []
  },
  {
   "cell_type": "code",
   "execution_count": null,
   "metadata": {},
   "outputs": [],
   "source": []
  }
 ],
 "metadata": {
  "kernelspec": {
   "display_name": "myenv",
   "language": "python",
   "name": "python3"
  },
  "language_info": {
   "codemirror_mode": {
    "name": "ipython",
    "version": 3
   },
   "file_extension": ".py",
   "mimetype": "text/x-python",
   "name": "python",
   "nbconvert_exporter": "python",
   "pygments_lexer": "ipython3",
   "version": "3.11.7"
  }
 },
 "nbformat": 4,
 "nbformat_minor": 2
}
