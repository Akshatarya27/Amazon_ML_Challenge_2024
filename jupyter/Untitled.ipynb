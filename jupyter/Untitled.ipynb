{
 "cells": [
  {
   "cell_type": "code",
   "execution_count": 1,
   "id": "786e1f92-a764-4248-98bb-9e83d51f4663",
   "metadata": {},
   "outputs": [
    {
     "ename": "ModuleNotFoundError",
     "evalue": "No module named 'pytesseract'",
     "output_type": "error",
     "traceback": [
      "\u001b[1;31m---------------------------------------------------------------------------\u001b[0m",
      "\u001b[1;31mModuleNotFoundError\u001b[0m                       Traceback (most recent call last)",
      "Cell \u001b[1;32mIn[1], line 1\u001b[0m\n\u001b[1;32m----> 1\u001b[0m \u001b[38;5;28;01mimport\u001b[39;00m \u001b[38;5;21;01mpytesseract\u001b[39;00m \n\u001b[0;32m      2\u001b[0m \u001b[38;5;28;01mfrom\u001b[39;00m \u001b[38;5;21;01mPIL\u001b[39;00m \u001b[38;5;28;01mimport\u001b[39;00m Image\n\u001b[0;32m      3\u001b[0m \u001b[38;5;28;01mimport\u001b[39;00m \u001b[38;5;21;01mpandas\u001b[39;00m \u001b[38;5;28;01mas\u001b[39;00m \u001b[38;5;21;01mpd\u001b[39;00m\n",
      "\u001b[1;31mModuleNotFoundError\u001b[0m: No module named 'pytesseract'"
     ]
    }
   ],
   "source": [
    "import pytesseract \n",
    "from PIL import Image\n",
    "import pandas as pd\n",
    "import requests\n",
    "import cv2\n",
    "import os\n",
    "import re"
   ]
  },
  {
   "cell_type": "code",
   "execution_count": null,
   "id": "a2719332-a412-42c6-b25b-dc4814e0d73e",
   "metadata": {},
   "outputs": [],
   "source": [
    "!pip install pytesseract"
   ]
  },
  {
   "cell_type": "code",
   "execution_count": null,
   "id": "4a3588ea-e5a4-4551-b453-27359eb8165b",
   "metadata": {},
   "outputs": [],
   "source": [
    "# Path to folder containing the images\n",
    "image_folder_path = r'C:\\Users\\aksha\\OneDrive\\Documents\\ML_PROJECTS_KRISH\\009_Amazon_ML_Challenge\\images_test'\n",
    "\n",
    "# Load CSV file\n",
    "# csv_file = r'C:\\Users\\aksha\\OneDrive\\Documents\\ML_PROJECTS_KRISH\\009_Amazon_ML_Challenge\\final\\test_sample.csv'  # Update this with your actual path\n",
    "csv_file = r'C:\\Users\\aksha\\OneDrive\\Documents\\ML_PROJECTS_KRISH\\009_Amazon_ML_Challenge\\final\\test_sample_j_2.csv'\n",
    "df = pd.read_csv(csv_file)"
   ]
  }
 ],
 "metadata": {
  "kernelspec": {
   "display_name": "Python 3 (ipykernel)",
   "language": "python",
   "name": "python3"
  },
  "language_info": {
   "codemirror_mode": {
    "name": "ipython",
    "version": 3
   },
   "file_extension": ".py",
   "mimetype": "text/x-python",
   "name": "python",
   "nbconvert_exporter": "python",
   "pygments_lexer": "ipython3",
   "version": "3.11.7"
  }
 },
 "nbformat": 4,
 "nbformat_minor": 5
}
